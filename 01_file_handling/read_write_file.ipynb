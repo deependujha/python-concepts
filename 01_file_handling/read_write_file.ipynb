{
 "cells": [
  {
   "cell_type": "code",
   "execution_count": 2,
   "metadata": {},
   "outputs": [
    {
     "name": "stdout",
     "output_type": "stream",
     "text": [
      "file content: \n",
      "Hello world.\n",
      "Jai siya ram.\n",
      "Har har mahadev.\n",
      "type of file_content: <class 'str'>\n"
     ]
    }
   ],
   "source": [
    "# Open file for reading\n",
    "file = open('abc.txt', 'r')\n",
    "\n",
    "# Read the entire contents of the file\n",
    "file_contents = file.read()\n",
    "\n",
    "# Close the file\n",
    "file.close()\n",
    "\n",
    "# Print the contents of the file\n",
    "print(f\"file content: \\n{file_contents}\")\n",
    "# Print the type of the file_contents -> str    \n",
    "print(f\"type of file_content: {type(file_contents)}\")\n",
    "\n"
   ]
  },
  {
   "cell_type": "code",
   "execution_count": 8,
   "metadata": {},
   "outputs": [
    {
     "name": "stdout",
     "output_type": "stream",
     "text": [
      "This is line '1': Hello world.\n",
      "This is line '2': Jai siya ram.\n",
      "This is line '3': Har har mahadev."
     ]
    }
   ],
   "source": [
    "# Open file for reading\n",
    "file = open('abc.txt', 'r')\n",
    "\n",
    "# Read the file line by line\n",
    "idx = 1\n",
    "for line in file:\n",
    "    # Do something with the line\n",
    "    print(f\"This is line '{idx}': {line}\", end=\"\")\n",
    "    idx += 1\n",
    "\n",
    "# Close the file\n",
    "file.close()\n"
   ]
  },
  {
   "cell_type": "code",
   "execution_count": 9,
   "metadata": {},
   "outputs": [],
   "source": [
    "file = open('abc.txt', 'a')\n",
    "\n",
    "# append some text to the file\n",
    "file.write(\"\\nThis is a new line from python\")\n",
    "\n",
    "# close the file\n",
    "file.close()\n"
   ]
  },
  {
   "cell_type": "code",
   "execution_count": 10,
   "metadata": {},
   "outputs": [],
   "source": [
    "file = open('abc.txt', 'w')\n",
    "\n",
    "# write some text to the file\n",
    "file.write(\"Overwrite the file with this text\")\n",
    "\n",
    "# close the file\n",
    "file.close()"
   ]
  },
  {
   "cell_type": "code",
   "execution_count": 20,
   "metadata": {},
   "outputs": [
    {
     "name": "stdout",
     "output_type": "stream",
     "text": [
      "An error occurred.\n",
      "[Errno 17] File exists: 'new_file_creation.txt'\n"
     ]
    }
   ],
   "source": [
    "try:\n",
    "    file = open('new_file_creation.txt','x')\n",
    "    file.write(\"This is a new file created by python.\")\n",
    "    \n",
    "except Exception as e:\n",
    "    print(\"An error occurred.\")\n",
    "    print(e)\n",
    "finally:\n",
    "    file.close()"
   ]
  }
 ],
 "metadata": {
  "kernelspec": {
   "display_name": "Python 3",
   "language": "python",
   "name": "python3"
  },
  "language_info": {
   "codemirror_mode": {
    "name": "ipython",
    "version": 3
   },
   "file_extension": ".py",
   "mimetype": "text/x-python",
   "name": "python",
   "nbconvert_exporter": "python",
   "pygments_lexer": "ipython3",
   "version": "3.10.6"
  },
  "orig_nbformat": 4
 },
 "nbformat": 4,
 "nbformat_minor": 2
}
